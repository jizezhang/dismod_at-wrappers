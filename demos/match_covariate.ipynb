{
 "cells": [
  {
   "cell_type": "code",
   "execution_count": 5,
   "metadata": {},
   "outputs": [],
   "source": [
    "import sys\n",
    "sys.path.insert(0, '../code/')\n",
    "import pandas as pd\n",
    "import covariate\n",
    "import numpy as np"
   ]
  },
  {
   "cell_type": "markdown",
   "metadata": {},
   "source": [
    "#### Read in measurement and covariates data files"
   ]
  },
  {
   "cell_type": "code",
   "execution_count": 1,
   "metadata": {},
   "outputs": [],
   "source": [
    "# ----- insert code to read in files -------"
   ]
  },
  {
   "cell_type": "code",
   "execution_count": 6,
   "metadata": {},
   "outputs": [
    {
     "name": "stdout",
     "output_type": "stream",
     "text": [
      "processed 1000 rows\r"
     ]
    }
   ],
   "source": [
    "covariate.interpolate(data, {'ow': overweight, 'bmi': bmi, 'fpg': fpg}, population);"
   ]
  },
  {
   "cell_type": "code",
   "execution_count": 7,
   "metadata": {},
   "outputs": [
    {
     "data": {
      "text/html": [
       "<div>\n",
       "<style scoped>\n",
       "    .dataframe tbody tr th:only-of-type {\n",
       "        vertical-align: middle;\n",
       "    }\n",
       "\n",
       "    .dataframe tbody tr th {\n",
       "        vertical-align: top;\n",
       "    }\n",
       "\n",
       "    .dataframe thead th {\n",
       "        text-align: right;\n",
       "    }\n",
       "</style>\n",
       "<table border=\"1\" class=\"dataframe\">\n",
       "  <thead>\n",
       "    <tr style=\"text-align: right;\">\n",
       "      <th></th>\n",
       "      <th>location_id</th>\n",
       "      <th>sex</th>\n",
       "      <th>age_start</th>\n",
       "      <th>age_end</th>\n",
       "      <th>year_start</th>\n",
       "      <th>year_end</th>\n",
       "      <th>mean</th>\n",
       "      <th>standard_error</th>\n",
       "      <th>measure</th>\n",
       "      <th>ow</th>\n",
       "      <th>bmi</th>\n",
       "      <th>fpg</th>\n",
       "    </tr>\n",
       "  </thead>\n",
       "  <tbody>\n",
       "    <tr>\n",
       "      <th>0</th>\n",
       "      <td>543</td>\n",
       "      <td>Female</td>\n",
       "      <td>10</td>\n",
       "      <td>14.000</td>\n",
       "      <td>2000</td>\n",
       "      <td>2000</td>\n",
       "      <td>0.002224</td>\n",
       "      <td>0.000951</td>\n",
       "      <td>prevalence</td>\n",
       "      <td>0.372527</td>\n",
       "      <td>28.315340</td>\n",
       "      <td>0.00000</td>\n",
       "    </tr>\n",
       "    <tr>\n",
       "      <th>1</th>\n",
       "      <td>86</td>\n",
       "      <td>Male</td>\n",
       "      <td>45</td>\n",
       "      <td>49.000</td>\n",
       "      <td>1997</td>\n",
       "      <td>1997</td>\n",
       "      <td>0.000053</td>\n",
       "      <td>0.000033</td>\n",
       "      <td>incidence</td>\n",
       "      <td>0.642712</td>\n",
       "      <td>25.731849</td>\n",
       "      <td>5.10174</td>\n",
       "    </tr>\n",
       "    <tr>\n",
       "      <th>2</th>\n",
       "      <td>566</td>\n",
       "      <td>Male</td>\n",
       "      <td>10</td>\n",
       "      <td>14.000</td>\n",
       "      <td>2011</td>\n",
       "      <td>2011</td>\n",
       "      <td>0.002914</td>\n",
       "      <td>0.000137</td>\n",
       "      <td>prevalence</td>\n",
       "      <td>0.374802</td>\n",
       "      <td>29.531616</td>\n",
       "      <td>0.00000</td>\n",
       "    </tr>\n",
       "    <tr>\n",
       "      <th>3</th>\n",
       "      <td>98</td>\n",
       "      <td>Male</td>\n",
       "      <td>0</td>\n",
       "      <td>14.000</td>\n",
       "      <td>1990</td>\n",
       "      <td>1990</td>\n",
       "      <td>0.000015</td>\n",
       "      <td>0.000100</td>\n",
       "      <td>incidence</td>\n",
       "      <td>0.077259</td>\n",
       "      <td>25.361510</td>\n",
       "      <td>0.00000</td>\n",
       "    </tr>\n",
       "    <tr>\n",
       "      <th>4</th>\n",
       "      <td>527</td>\n",
       "      <td>Female</td>\n",
       "      <td>0</td>\n",
       "      <td>0.999</td>\n",
       "      <td>2011</td>\n",
       "      <td>2011</td>\n",
       "      <td>0.000030</td>\n",
       "      <td>0.000010</td>\n",
       "      <td>prevalence</td>\n",
       "      <td>0.000000</td>\n",
       "      <td>28.988190</td>\n",
       "      <td>0.00000</td>\n",
       "    </tr>\n",
       "  </tbody>\n",
       "</table>\n",
       "</div>"
      ],
      "text/plain": [
       "   location_id     sex  age_start  age_end  year_start  year_end      mean  \\\n",
       "0          543  Female         10   14.000        2000      2000  0.002224   \n",
       "1           86    Male         45   49.000        1997      1997  0.000053   \n",
       "2          566    Male         10   14.000        2011      2011  0.002914   \n",
       "3           98    Male          0   14.000        1990      1990  0.000015   \n",
       "4          527  Female          0    0.999        2011      2011  0.000030   \n",
       "\n",
       "   standard_error     measure        ow        bmi      fpg  \n",
       "0        0.000951  prevalence  0.372527  28.315340  0.00000  \n",
       "1        0.000033   incidence  0.642712  25.731849  5.10174  \n",
       "2        0.000137  prevalence  0.374802  29.531616  0.00000  \n",
       "3        0.000100   incidence  0.077259  25.361510  0.00000  \n",
       "4        0.000010  prevalence  0.000000  28.988190  0.00000  "
      ]
     },
     "execution_count": 7,
     "metadata": {},
     "output_type": "execute_result"
    }
   ],
   "source": [
    "data.head()"
   ]
  }
 ],
 "metadata": {
  "kernelspec": {
   "display_name": "Python 3",
   "language": "python",
   "name": "python3"
  },
  "language_info": {
   "codemirror_mode": {
    "name": "ipython",
    "version": 3
   },
   "file_extension": ".py",
   "mimetype": "text/x-python",
   "name": "python",
   "nbconvert_exporter": "python",
   "pygments_lexer": "ipython3",
   "version": "3.7.3"
  }
 },
 "nbformat": 4,
 "nbformat_minor": 2
}
