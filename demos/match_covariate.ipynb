{
 "cells": [
  {
   "cell_type": "code",
   "execution_count": 1,
   "metadata": {},
   "outputs": [],
   "source": [
    "import sys\n",
    "sys.path.insert(0, '../code/')\n",
    "import pandas as pd\n",
    "import covariate\n",
    "import numpy as np"
   ]
  },
  {
   "cell_type": "markdown",
   "metadata": {},
   "source": [
    "#### Read in measurement and covariates data files"
   ]
  },
  {
   "cell_type": "code",
   "execution_count": 2,
   "metadata": {},
   "outputs": [],
   "source": [
    "measurement = pd.read_csv('./data/diabetes_sinc_1000_loc.csv')\n",
    "overweight = pd.read_csv('./data/overweight.csv')\n",
    "bmi = pd.read_csv('./data/bmi.csv')\n",
    "fpg = pd.read_csv('./data/fpg.csv')\n",
    "population = pd.read_csv('./data/pop.csv')"
   ]
  },
  {
   "cell_type": "code",
   "execution_count": 4,
   "metadata": {},
   "outputs": [
    {
     "name": "stdout",
     "output_type": "stream",
     "text": [
      "processed 1000 rows\r"
     ]
    }
   ],
   "source": [
    "covariate.interpolate(measurement, {'ow': overweight, 'bmi': bmi, 'fpg': fpg}, population);"
   ]
  },
  {
   "cell_type": "code",
   "execution_count": 6,
   "metadata": {},
   "outputs": [
    {
     "data": {
      "text/html": [
       "<div>\n",
       "<style scoped>\n",
       "    .dataframe tbody tr th:only-of-type {\n",
       "        vertical-align: middle;\n",
       "    }\n",
       "\n",
       "    .dataframe tbody tr th {\n",
       "        vertical-align: top;\n",
       "    }\n",
       "\n",
       "    .dataframe thead th {\n",
       "        text-align: right;\n",
       "    }\n",
       "</style>\n",
       "<table border=\"1\" class=\"dataframe\">\n",
       "  <thead>\n",
       "    <tr style=\"text-align: right;\">\n",
       "      <th></th>\n",
       "      <th>Unnamed: 0</th>\n",
       "      <th>location_id</th>\n",
       "      <th>X</th>\n",
       "      <th>sex</th>\n",
       "      <th>age_start</th>\n",
       "      <th>age_end</th>\n",
       "      <th>year_start</th>\n",
       "      <th>year_end</th>\n",
       "      <th>mean</th>\n",
       "      <th>standard_error</th>\n",
       "      <th>measure</th>\n",
       "      <th>ow</th>\n",
       "      <th>bmi</th>\n",
       "      <th>fpg</th>\n",
       "      <th>location_name</th>\n",
       "      <th>region_name</th>\n",
       "    </tr>\n",
       "  </thead>\n",
       "  <tbody>\n",
       "    <tr>\n",
       "      <th>0</th>\n",
       "      <td>1</td>\n",
       "      <td>8</td>\n",
       "      <td>913</td>\n",
       "      <td>Female</td>\n",
       "      <td>60</td>\n",
       "      <td>99.000</td>\n",
       "      <td>2001</td>\n",
       "      <td>2002</td>\n",
       "      <td>0.000010</td>\n",
       "      <td>0.000100</td>\n",
       "      <td>Sincidence</td>\n",
       "      <td>0.367407</td>\n",
       "      <td>23.525415</td>\n",
       "      <td>5.884486</td>\n",
       "      <td>Taiwan</td>\n",
       "      <td>East Asia</td>\n",
       "    </tr>\n",
       "    <tr>\n",
       "      <th>1</th>\n",
       "      <td>2</td>\n",
       "      <td>8</td>\n",
       "      <td>441</td>\n",
       "      <td>Female</td>\n",
       "      <td>45</td>\n",
       "      <td>59.000</td>\n",
       "      <td>2005</td>\n",
       "      <td>2006</td>\n",
       "      <td>0.000010</td>\n",
       "      <td>0.000100</td>\n",
       "      <td>Sincidence</td>\n",
       "      <td>0.434376</td>\n",
       "      <td>23.969006</td>\n",
       "      <td>5.534053</td>\n",
       "      <td>Taiwan</td>\n",
       "      <td>East Asia</td>\n",
       "    </tr>\n",
       "    <tr>\n",
       "      <th>2</th>\n",
       "      <td>3</td>\n",
       "      <td>8</td>\n",
       "      <td>464</td>\n",
       "      <td>Male</td>\n",
       "      <td>0</td>\n",
       "      <td>0.999</td>\n",
       "      <td>2016</td>\n",
       "      <td>2016</td>\n",
       "      <td>0.000000</td>\n",
       "      <td>0.000012</td>\n",
       "      <td>prevalence</td>\n",
       "      <td>0.000000</td>\n",
       "      <td>25.215980</td>\n",
       "      <td>0.000000</td>\n",
       "      <td>Taiwan</td>\n",
       "      <td>East Asia</td>\n",
       "    </tr>\n",
       "    <tr>\n",
       "      <th>3</th>\n",
       "      <td>4</td>\n",
       "      <td>8</td>\n",
       "      <td>375</td>\n",
       "      <td>Male</td>\n",
       "      <td>15</td>\n",
       "      <td>29.000</td>\n",
       "      <td>2007</td>\n",
       "      <td>2008</td>\n",
       "      <td>0.000031</td>\n",
       "      <td>0.000100</td>\n",
       "      <td>Sincidence</td>\n",
       "      <td>0.327989</td>\n",
       "      <td>24.704975</td>\n",
       "      <td>1.826869</td>\n",
       "      <td>Taiwan</td>\n",
       "      <td>East Asia</td>\n",
       "    </tr>\n",
       "    <tr>\n",
       "      <th>4</th>\n",
       "      <td>5</td>\n",
       "      <td>8</td>\n",
       "      <td>956</td>\n",
       "      <td>Male</td>\n",
       "      <td>15</td>\n",
       "      <td>29.000</td>\n",
       "      <td>2001</td>\n",
       "      <td>2002</td>\n",
       "      <td>0.000032</td>\n",
       "      <td>0.000100</td>\n",
       "      <td>Sincidence</td>\n",
       "      <td>0.265633</td>\n",
       "      <td>23.871868</td>\n",
       "      <td>1.606499</td>\n",
       "      <td>Taiwan</td>\n",
       "      <td>East Asia</td>\n",
       "    </tr>\n",
       "  </tbody>\n",
       "</table>\n",
       "</div>"
      ],
      "text/plain": [
       "   Unnamed: 0  location_id    X     sex  age_start  age_end  year_start  \\\n",
       "0           1            8  913  Female         60   99.000        2001   \n",
       "1           2            8  441  Female         45   59.000        2005   \n",
       "2           3            8  464    Male          0    0.999        2016   \n",
       "3           4            8  375    Male         15   29.000        2007   \n",
       "4           5            8  956    Male         15   29.000        2001   \n",
       "\n",
       "   year_end      mean  standard_error     measure        ow        bmi  \\\n",
       "0      2002  0.000010        0.000100  Sincidence  0.367407  23.525415   \n",
       "1      2006  0.000010        0.000100  Sincidence  0.434376  23.969006   \n",
       "2      2016  0.000000        0.000012  prevalence  0.000000  25.215980   \n",
       "3      2008  0.000031        0.000100  Sincidence  0.327989  24.704975   \n",
       "4      2002  0.000032        0.000100  Sincidence  0.265633  23.871868   \n",
       "\n",
       "        fpg location_name region_name  \n",
       "0  5.884486        Taiwan   East Asia  \n",
       "1  5.534053        Taiwan   East Asia  \n",
       "2  0.000000        Taiwan   East Asia  \n",
       "3  1.826869        Taiwan   East Asia  \n",
       "4  1.606499        Taiwan   East Asia  "
      ]
     },
     "execution_count": 6,
     "metadata": {},
     "output_type": "execute_result"
    }
   ],
   "source": [
    "measurement.head()"
   ]
  },
  {
   "cell_type": "code",
   "execution_count": 7,
   "metadata": {},
   "outputs": [],
   "source": [
    "measurement.to_csv('./data/diabetes_sinc_1000_loc_cov.csv')"
   ]
  },
  {
   "cell_type": "code",
   "execution_count": null,
   "metadata": {},
   "outputs": [],
   "source": []
  }
 ],
 "metadata": {
  "kernelspec": {
   "display_name": "Python 3",
   "language": "python",
   "name": "python3"
  },
  "language_info": {
   "codemirror_mode": {
    "name": "ipython",
    "version": 3
   },
   "file_extension": ".py",
   "mimetype": "text/x-python",
   "name": "python",
   "nbconvert_exporter": "python",
   "pygments_lexer": "ipython3",
   "version": "3.6.8"
  }
 },
 "nbformat": 4,
 "nbformat_minor": 2
}
