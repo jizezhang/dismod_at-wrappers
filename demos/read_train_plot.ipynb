{
 "cells": [
  {
   "cell_type": "code",
   "execution_count": null,
   "metadata": {},
   "outputs": [],
   "source": [
    "import sys\n",
    "sys.path.insert(0, '../code')\n",
    "import dismod_input"
   ]
  },
  {
   "cell_type": "code",
   "execution_count": null,
   "metadata": {},
   "outputs": [],
   "source": [
    "data = dismod_input.get_input_from_db()"
   ]
  },
  {
   "cell_type": "code",
   "execution_count": null,
   "metadata": {},
   "outputs": [],
   "source": [
    "rates = ['iota']\n",
    "meas_noise_density = {'Sincidence': {'density': 'gaussian'}}\n",
    "rates_parent_priors = [\n",
    "    # rate priors for iota\n",
    "    ({'density':'uniform','upper':1.0,'lower':1e-16,'mean': .0001},\\\n",
    "    {'density': 'gaussian', 'mean':0.0, 'std': .001},\\\n",
    "    {'density': 'gaussian', 'mean':0.0, 'std': .001})]\n",
    "rates_child_priors = [\n",
    "    # rate priors for iota\n",
    "    ({'density':'gaussian','mean': 0.0, 'std': .1}, None, None)]\n",
    "#---------change path------------\n",
    "path_to_db = './data/incidence_two_level.db'\n",
    "\n",
    "db = DismodDB(data, locations, integrand,rates, rates_parent_priors, \n",
    "              rates_child_priors, meas_noise_density,path_to_db)"
   ]
  },
  {
   "cell_type": "code",
   "execution_count": null,
   "metadata": {},
   "outputs": [],
   "source": [
    "model = TwoLevel(db)\n",
    "model.fit_both(zero_sum=True, tol=1e-8)\n",
    "path = './data/'\n",
    "plt = PlotTwoLevel(path, 'incidence_two_level.db')\n",
    "plt.plot_residuals('all')\n",
    "plt.plot_change_over_age('rate', 'iota', 'Sincidence', 'Australia')"
   ]
  },
  {
   "cell_type": "code",
   "execution_count": null,
   "metadata": {},
   "outputs": [],
   "source": [
    "output = DismodOutput(path_to_db)\n",
    "model_version_id = 395838\n",
    "output.save_GBD_output(['Sincidence', 'prevalence'], model_version_id, list(range(1980, 2019)), \n",
    "                       [1, 2], location_name_to_id, './data/incidence_gbd_sample.csv')\n"
   ]
  }
 ],
 "metadata": {
  "kernelspec": {
   "display_name": "Python 3",
   "language": "python",
   "name": "python3"
  },
  "language_info": {
   "codemirror_mode": {
    "name": "ipython",
    "version": 3
   },
   "file_extension": ".py",
   "mimetype": "text/x-python",
   "name": "python",
   "nbconvert_exporter": "python",
   "pygments_lexer": "ipython3",
   "version": "3.7.3"
  }
 },
 "nbformat": 4,
 "nbformat_minor": 2
}
