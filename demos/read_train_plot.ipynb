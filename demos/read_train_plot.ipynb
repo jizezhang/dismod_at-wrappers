{
 "cells": [
  {
   "cell_type": "code",
   "execution_count": 6,
   "metadata": {},
   "outputs": [
    {
     "ename": "ModuleNotFoundError",
     "evalue": "No module named 'dismod_at'",
     "output_type": "error",
     "traceback": [
      "\u001b[0;31m---------------------------------------------------------------------------\u001b[0m",
      "\u001b[0;31mModuleNotFoundError\u001b[0m                       Traceback (most recent call last)",
      "\u001b[0;32m<ipython-input-6-a674432c5dde>\u001b[0m in \u001b[0;36m<module>\u001b[0;34m\u001b[0m\n\u001b[1;32m      2\u001b[0m \u001b[0msys\u001b[0m\u001b[0;34m.\u001b[0m\u001b[0mpath\u001b[0m\u001b[0;34m.\u001b[0m\u001b[0minsert\u001b[0m\u001b[0;34m(\u001b[0m\u001b[0;36m0\u001b[0m\u001b[0;34m,\u001b[0m \u001b[0;34m'../code'\u001b[0m\u001b[0;34m)\u001b[0m\u001b[0;34m\u001b[0m\u001b[0m\n\u001b[1;32m      3\u001b[0m \u001b[0;32mimport\u001b[0m \u001b[0mdismod_input\u001b[0m\u001b[0;34m\u001b[0m\u001b[0m\n\u001b[0;32m----> 4\u001b[0;31m \u001b[0;32mfrom\u001b[0m \u001b[0mdismod_db\u001b[0m \u001b[0;32mimport\u001b[0m \u001b[0mDismodDB\u001b[0m\u001b[0;34m\u001b[0m\u001b[0m\n\u001b[0m\u001b[1;32m      5\u001b[0m \u001b[0;32mfrom\u001b[0m \u001b[0mtwo_level\u001b[0m \u001b[0;32mimport\u001b[0m \u001b[0mTwoLevel\u001b[0m\u001b[0;34m\u001b[0m\u001b[0m\n\u001b[1;32m      6\u001b[0m \u001b[0;32mfrom\u001b[0m \u001b[0mplot_two_level\u001b[0m \u001b[0;32mimport\u001b[0m \u001b[0mPlotTwoLevel\u001b[0m\u001b[0;34m\u001b[0m\u001b[0m\n",
      "\u001b[0;32m~/dismod_at-wrapper.git/code/dismod_db.py\u001b[0m in \u001b[0;36m<module>\u001b[0;34m\u001b[0m\n\u001b[1;32m      5\u001b[0m \u001b[0;32mimport\u001b[0m \u001b[0mpandas\u001b[0m \u001b[0;32mas\u001b[0m \u001b[0mpd\u001b[0m\u001b[0;34m\u001b[0m\u001b[0m\n\u001b[1;32m      6\u001b[0m \u001b[0;32mfrom\u001b[0m \u001b[0mtyping\u001b[0m \u001b[0;32mimport\u001b[0m \u001b[0mDict\u001b[0m\u001b[0;34m,\u001b[0m \u001b[0mList\u001b[0m\u001b[0;34m,\u001b[0m \u001b[0mAny\u001b[0m\u001b[0;34m,\u001b[0m \u001b[0mTuple\u001b[0m\u001b[0;34m\u001b[0m\u001b[0m\n\u001b[0;32m----> 7\u001b[0;31m \u001b[0;32mimport\u001b[0m \u001b[0mdismod_at\u001b[0m\u001b[0;34m\u001b[0m\u001b[0m\n\u001b[0m\u001b[1;32m      8\u001b[0m \u001b[0;32mimport\u001b[0m \u001b[0mos\u001b[0m\u001b[0;34m\u001b[0m\u001b[0m\n\u001b[1;32m      9\u001b[0m \u001b[0;34m\u001b[0m\u001b[0m\n",
      "\u001b[0;31mModuleNotFoundError\u001b[0m: No module named 'dismod_at'"
     ]
    }
   ],
   "source": [
    "import sys\n",
    "sys.path.insert(0, '../code')\n",
    "import dismod_input\n",
    "from dismod_db import DismodDB\n",
    "from two_level import TwoLevel\n",
    "from plot_two_level import PlotTwoLevel\n",
    "import numpy as np\n",
    "import pandas as pd\n",
    "from dismod_output import DismodOutput"
   ]
  },
  {
   "cell_type": "code",
   "execution_count": 2,
   "metadata": {},
   "outputs": [
    {
     "name": "stderr",
     "output_type": "stream",
     "text": [
      "2019-11-22 10:01:08,008 --- INFO ---  elmo.run.run_request ---  preparing to execute request --- [request_id:397214]\n",
      "2019-11-22 10:01:08,021 --- INFO ---  elmo.run.run_request ---  beginning data import --- [request_id:397214]\n",
      "2019-11-22 10:01:12,691 --- INFO ---  elmo.run.run_request ---  beginning data transformation --- [request_id:397214]\n",
      "2019-11-22 10:01:15,829 --- INFO ---  elmo.run.run_request ---  beginning create tables --- [request_id:397214]\n",
      "2019-11-22 10:01:15,832 --- INFO ---  elmo.run.run_request ---  beginning data write --- [request_id:397214]\n",
      "2019-11-22 10:01:15,834 --- INFO ---  elmo.run.run_request ---  Committing changes --- [request_id:397214]\n",
      "2019-11-22 10:01:15,836 --- INFO ---  elmo.run.run_request ---  done committing --- [request_id:397214]\n",
      "2019-11-22 10:01:15,840 --- INFO ---  elmo.run.run_request ---  process finished --- [request_id:397214]\n"
     ]
    }
   ],
   "source": [
    "data = dismod_input.get_input_from_db(location_ids=[71, 72])"
   ]
  },
  {
   "cell_type": "code",
   "execution_count": 4,
   "metadata": {},
   "outputs": [
    {
     "data": {
      "text/html": [
       "<div>\n",
       "<style scoped>\n",
       "    .dataframe tbody tr th:only-of-type {\n",
       "        vertical-align: middle;\n",
       "    }\n",
       "\n",
       "    .dataframe tbody tr th {\n",
       "        vertical-align: top;\n",
       "    }\n",
       "\n",
       "    .dataframe thead th {\n",
       "        text-align: right;\n",
       "    }\n",
       "</style>\n",
       "<table border=\"1\" class=\"dataframe\">\n",
       "  <thead>\n",
       "    <tr style=\"text-align: right;\">\n",
       "      <th></th>\n",
       "      <th>location_name</th>\n",
       "      <th>location_id</th>\n",
       "      <th>sex</th>\n",
       "      <th>year_start</th>\n",
       "      <th>year_end</th>\n",
       "      <th>age_start</th>\n",
       "      <th>age_end</th>\n",
       "      <th>measure</th>\n",
       "      <th>mean</th>\n",
       "      <th>standard_error</th>\n",
       "    </tr>\n",
       "  </thead>\n",
       "  <tbody>\n",
       "    <tr>\n",
       "      <td>0</td>\n",
       "      <td>Taiwan (Province of China)</td>\n",
       "      <td>8</td>\n",
       "      <td>Female</td>\n",
       "      <td>1999</td>\n",
       "      <td>2000</td>\n",
       "      <td>0.0</td>\n",
       "      <td>15.0</td>\n",
       "      <td>incidence</td>\n",
       "      <td>0.000044</td>\n",
       "      <td>0.000004</td>\n",
       "    </tr>\n",
       "    <tr>\n",
       "      <td>1</td>\n",
       "      <td>Taiwan (Province of China)</td>\n",
       "      <td>8</td>\n",
       "      <td>Female</td>\n",
       "      <td>2001</td>\n",
       "      <td>2002</td>\n",
       "      <td>0.0</td>\n",
       "      <td>15.0</td>\n",
       "      <td>incidence</td>\n",
       "      <td>0.000049</td>\n",
       "      <td>0.000004</td>\n",
       "    </tr>\n",
       "    <tr>\n",
       "      <td>2</td>\n",
       "      <td>Taiwan (Province of China)</td>\n",
       "      <td>8</td>\n",
       "      <td>Female</td>\n",
       "      <td>2003</td>\n",
       "      <td>2004</td>\n",
       "      <td>0.0</td>\n",
       "      <td>15.0</td>\n",
       "      <td>incidence</td>\n",
       "      <td>0.000058</td>\n",
       "      <td>0.000005</td>\n",
       "    </tr>\n",
       "    <tr>\n",
       "      <td>3</td>\n",
       "      <td>Taiwan (Province of China)</td>\n",
       "      <td>8</td>\n",
       "      <td>Female</td>\n",
       "      <td>2005</td>\n",
       "      <td>2006</td>\n",
       "      <td>0.0</td>\n",
       "      <td>15.0</td>\n",
       "      <td>incidence</td>\n",
       "      <td>0.000055</td>\n",
       "      <td>0.000005</td>\n",
       "    </tr>\n",
       "    <tr>\n",
       "      <td>4</td>\n",
       "      <td>Taiwan (Province of China)</td>\n",
       "      <td>8</td>\n",
       "      <td>Female</td>\n",
       "      <td>2007</td>\n",
       "      <td>2008</td>\n",
       "      <td>0.0</td>\n",
       "      <td>15.0</td>\n",
       "      <td>incidence</td>\n",
       "      <td>0.000062</td>\n",
       "      <td>0.000006</td>\n",
       "    </tr>\n",
       "  </tbody>\n",
       "</table>\n",
       "</div>"
      ],
      "text/plain": [
       "                location_name  location_id     sex  year_start  year_end  \\\n",
       "0  Taiwan (Province of China)            8  Female        1999      2000   \n",
       "1  Taiwan (Province of China)            8  Female        2001      2002   \n",
       "2  Taiwan (Province of China)            8  Female        2003      2004   \n",
       "3  Taiwan (Province of China)            8  Female        2005      2006   \n",
       "4  Taiwan (Province of China)            8  Female        2007      2008   \n",
       "\n",
       "   age_start  age_end    measure      mean  standard_error  \n",
       "0        0.0     15.0  incidence  0.000044        0.000004  \n",
       "1        0.0     15.0  incidence  0.000049        0.000004  \n",
       "2        0.0     15.0  incidence  0.000058        0.000005  \n",
       "3        0.0     15.0  incidence  0.000055        0.000005  \n",
       "4        0.0     15.0  incidence  0.000062        0.000006  "
      ]
     },
     "execution_count": 4,
     "metadata": {},
     "output_type": "execute_result"
    }
   ],
   "source": [
    "data.head()"
   ]
  },
  {
   "cell_type": "code",
   "execution_count": 5,
   "metadata": {},
   "outputs": [
    {
     "ename": "NameError",
     "evalue": "name 'DismodDB' is not defined",
     "output_type": "error",
     "traceback": [
      "\u001b[0;31m---------------------------------------------------------------------------\u001b[0m",
      "\u001b[0;31mNameError\u001b[0m                                 Traceback (most recent call last)",
      "\u001b[0;32m<ipython-input-5-95b594f119e5>\u001b[0m in \u001b[0;36m<module>\u001b[0;34m\u001b[0m\n\u001b[1;32m     14\u001b[0m \u001b[0mlocations\u001b[0m \u001b[0;34m=\u001b[0m \u001b[0;34m[\u001b[0m\u001b[0;34m'Australia'\u001b[0m\u001b[0;34m,\u001b[0m \u001b[0;34m'New Zealand'\u001b[0m\u001b[0;34m]\u001b[0m\u001b[0;34m\u001b[0m\u001b[0m\n\u001b[1;32m     15\u001b[0m \u001b[0mintegrand\u001b[0m \u001b[0;34m=\u001b[0m \u001b[0;34m[\u001b[0m\u001b[0;34m'Sincidence'\u001b[0m\u001b[0;34m]\u001b[0m\u001b[0;34m\u001b[0m\u001b[0m\n\u001b[0;32m---> 16\u001b[0;31m db = DismodDB(data, locations, integrand,rates, rates_parent_priors, \n\u001b[0m\u001b[1;32m     17\u001b[0m               rates_child_priors, meas_noise_density,path_to_db)\n",
      "\u001b[0;31mNameError\u001b[0m: name 'DismodDB' is not defined"
     ]
    }
   ],
   "source": [
    "rates = ['iota']\n",
    "meas_noise_density = {'Sincidence': {'density': 'gaussian'}}\n",
    "rates_parent_priors = [\n",
    "    # rate priors for iota\n",
    "    ({'density':'uniform','upper':1.0,'lower':1e-16,'mean': .0001},\\\n",
    "    {'density': 'gaussian', 'mean':0.0, 'std': .001},\\\n",
    "    {'density': 'gaussian', 'mean':0.0, 'std': .001})]\n",
    "rates_child_priors = [\n",
    "    # rate priors for iota\n",
    "    ({'density':'gaussian','mean': 0.0, 'std': .1}, None, None)]\n",
    "#---------change path------------\n",
    "path_to_db = './data/incidence_two_level_loop.db'\n",
    "\n",
    "locations = ['Australia', 'New Zealand']\n",
    "integrand = ['Sincidence']\n",
    "db = DismodDB(data, locations, integrand,rates, rates_parent_priors, \n",
    "              rates_child_priors, meas_noise_density,path_to_db)"
   ]
  },
  {
   "cell_type": "code",
   "execution_count": null,
   "metadata": {},
   "outputs": [],
   "source": [
    "model = TwoLevel(db)\n",
    "model.fit_both(zero_sum=True, tol=1e-8)\n",
    "path = './data/'\n",
    "plt = PlotTwoLevel(path, 'incidence_two_level.db')\n",
    "plt.plot_residuals('all')\n",
    "plt.plot_change_over_age('rate', 'iota', 'Sincidence', 'Australia')"
   ]
  },
  {
   "cell_type": "code",
   "execution_count": null,
   "metadata": {},
   "outputs": [],
   "source": [
    "output = DismodOutput(path_to_db)\n",
    "model_version_id = 395838\n",
    "output.save_GBD_output(['Sincidence', 'prevalence'], model_version_id, list(range(1980, 2019)), \n",
    "                       [1, 2], location_name_to_id, './data/incidence_gbd_sample.csv')\n"
   ]
  }
 ],
 "metadata": {
  "kernelspec": {
   "display_name": "Python 3",
   "language": "python",
   "name": "python3"
  },
  "language_info": {
   "codemirror_mode": {
    "name": "ipython",
    "version": 3
   },
   "file_extension": ".py",
   "mimetype": "text/x-python",
   "name": "python",
   "nbconvert_exporter": "python",
   "pygments_lexer": "ipython3",
   "version": "3.6.0"
  }
 },
 "nbformat": 4,
 "nbformat_minor": 2
}
