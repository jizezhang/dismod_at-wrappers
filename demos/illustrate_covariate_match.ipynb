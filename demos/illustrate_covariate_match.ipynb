{
 "cells": [
  {
   "cell_type": "code",
   "execution_count": 1,
   "metadata": {},
   "outputs": [],
   "source": [
    "import numpy as np\n",
    "import matplotlib.pyplot as plt\n",
    "import random\n",
    "from itertools import product"
   ]
  },
  {
   "cell_type": "code",
   "execution_count": 18,
   "metadata": {},
   "outputs": [
    {
     "name": "stdout",
     "output_type": "stream",
     "text": [
      "[(50, 2002), (65, 2000), (65, 2003), (40, 2002), (55, 2006), (30, 2008), (60, 2004), (5, 2001), (55, 2004), (35, 2006), (35, 2000), (30, 2006), (5, 2002), (20, 2007), (20, 2008), (70, 2001), (25, 2002), (45, 2005), (10, 2008), (50, 2005), (40, 2007), (20, 2009), (65, 2007), (55, 2001), (15, 2008), (60, 2009), (20, 2002), (60, 2007), (10, 2009), (55, 2003), (70, 2003), (65, 2002), (45, 2000), (5, 2003), (30, 2009), (70, 2004), (40, 2006), (55, 2007), (50, 2000), (65, 2006), (60, 2005), (60, 2008), (25, 2006), (20, 2003), (30, 2003), (10, 2001), (25, 2004), (35, 2003), (30, 2004), (70, 2000)]\n"
     ]
    }
   ],
   "source": [
    "np.random.seed(127)\n",
    "random.seed(16)\n",
    "ages = np.arange(5,80,5)\n",
    "years = np.arange(2000, 2010)\n",
    "pairs = list(product(ages[:-1], years))\n",
    "n_data = 50\n",
    "data = random.sample(pairs,k=n_data)\n",
    "pop = np.random.rand(n_data)*5\n",
    "print(data)"
   ]
  },
  {
   "cell_type": "code",
   "execution_count": 24,
   "metadata": {},
   "outputs": [
    {
     "data": {
      "text/plain": [
       "[<matplotlib.lines.Line2D at 0x1164343c8>]"
      ]
     },
     "execution_count": 24,
     "metadata": {},
     "output_type": "execute_result"
    },
    {
     "data": {
      "image/png": "[encoded data removed]",
      "text/plain": [
       "<Figure size 432x288 with 1 Axes>"
      ]
     },
     "metadata": {
      "needs_background": "light"
     },
     "output_type": "display_data"
    }
   ],
   "source": [
    "for i, pair in enumerate(data):\n",
    "    plt.plot([pair[0], pair[0]+5], [pair[1], pair[1]], linewidth=pop[i])\n",
    "plt.xticks(age_groups)\n",
    "plt.yticks(years)\n",
    "plt.grid(True)\n",
    "plt.xlabel('age')\n",
    "plt.ylabel('year')\n",
    "plt.plot([27, 42],[2002, 2002],'r--')\n",
    "plt.plot([27,42],[2005, 2005],'r--')\n",
    "plt.plot([27,27], [2002, 2005],'r--')\n",
    "plt.plot([42,42], [2002, 2005],'r--')"
   ]
  },
  {
   "cell_type": "markdown",
   "metadata": {},
   "source": [
    "- lines segments: population weighted covariate values. Thickness indicates population size.\n",
    "- Dashed box: age: defined by `age_start`, `age_end`, `year_start`, `year_end` from one measurement entry.\n",
    "- For each measurement entry (aka box), compute the population weighted average of covariate values (aka line segments) available during the corresponding age-year interval (aka lie inside the box)."
   ]
  },
  {
   "cell_type": "code",
   "execution_count": null,
   "metadata": {},
   "outputs": [],
   "source": []
  }
 ],
 "metadata": {
  "kernelspec": {
   "display_name": "Python 3",
   "language": "python",
   "name": "python3"
  },
  "language_info": {
   "codemirror_mode": {
    "name": "ipython",
    "version": 3
   },
   "file_extension": ".py",
   "mimetype": "text/x-python",
   "name": "python",
   "nbconvert_exporter": "python",
   "pygments_lexer": "ipython3",
   "version": "3.7.3"
  }
 },
 "nbformat": 4,
 "nbformat_minor": 2
}
