{
 "cells": [
  {
   "cell_type": "code",
   "execution_count": 1,
   "metadata": {},
   "outputs": [],
   "source": [
    "import sys\n",
    "sys.path.insert(0, '../code/')\n",
    "from dismod_db import DismodDB\n",
    "from two_level import TwoLevel\n",
    "from plot_two_level import PlotTwoLevel\n",
    "import numpy as np\n",
    "import pandas as pd\n",
    "import xarray as xr"
   ]
  },
  {
   "cell_type": "code",
   "execution_count": 2,
   "metadata": {},
   "outputs": [],
   "source": [
    "raw_data_incidence = xr.open_dataarray('./data/maternal_obstruct.nc')\n",
    "raw_data_death = xr.open_dataarray('./data/maternal_obstruct_death.nc')"
   ]
  },
  {
   "cell_type": "code",
   "execution_count": 3,
   "metadata": {},
   "outputs": [],
   "source": [
    "age_metadata = pd.read_csv('./data/age_metadata.csv')\n",
    "location_metadata = pd.read_csv('./data/location_metadata.csv')\n",
    "age_id_to_range = {}\n",
    "for i, row in age_metadata.iterrows():\n",
    "    age_id_to_range[row['age_group_id']] = (row['age_group_years_start'], row['age_group_years_end'])\n",
    "location_id_to_name = {}\n",
    "for i, row in location_metadata.iterrows():\n",
    "    location_id_to_name[row['location_id']] = row['location_name']"
   ]
  },
  {
   "cell_type": "code",
   "execution_count": 4,
   "metadata": {},
   "outputs": [],
   "source": [
    "incidence_data = raw_data_incidence.loc[dict(location_id=slice(101,102))].mean(\"draw\").to_dataframe().reset_index()\n",
    "death_data = raw_data_death.loc[dict(location_id=slice(101,102))].mean(\"draw\").to_dataframe().reset_index()\n",
    "incidence_data_std = raw_data_incidence.loc[dict(location_id=slice(101,102))].std(\"draw\").to_dataframe().reset_index()\n",
    "death_data_std = raw_data_death.loc[dict(location_id=slice(101,102))].std(\"draw\").to_dataframe().reset_index()"
   ]
  },
  {
   "cell_type": "code",
   "execution_count": 5,
   "metadata": {},
   "outputs": [
    {
     "data": {
      "text/html": [
       "<div>\n",
       "<style scoped>\n",
       "    .dataframe tbody tr th:only-of-type {\n",
       "        vertical-align: middle;\n",
       "    }\n",
       "\n",
       "    .dataframe tbody tr th {\n",
       "        vertical-align: top;\n",
       "    }\n",
       "\n",
       "    .dataframe thead th {\n",
       "        text-align: right;\n",
       "    }\n",
       "</style>\n",
       "<table border=\"1\" class=\"dataframe\">\n",
       "  <thead>\n",
       "    <tr style=\"text-align: right;\">\n",
       "      <th></th>\n",
       "      <th>measure</th>\n",
       "      <th>sex_id</th>\n",
       "      <th>age_start</th>\n",
       "      <th>age_end</th>\n",
       "      <th>location_name</th>\n",
       "      <th>year_start</th>\n",
       "      <th>year_end</th>\n",
       "      <th>mean</th>\n",
       "      <th>standard_error</th>\n",
       "    </tr>\n",
       "  </thead>\n",
       "  <tbody>\n",
       "    <tr>\n",
       "      <th>0</th>\n",
       "      <td>Sincidence</td>\n",
       "      <td>1</td>\n",
       "      <td>0.0</td>\n",
       "      <td>0.019178</td>\n",
       "      <td>Canada</td>\n",
       "      <td>1990.0</td>\n",
       "      <td>1990.0</td>\n",
       "      <td>0.0</td>\n",
       "      <td>0.0</td>\n",
       "    </tr>\n",
       "    <tr>\n",
       "      <th>1</th>\n",
       "      <td>Sincidence</td>\n",
       "      <td>1</td>\n",
       "      <td>0.0</td>\n",
       "      <td>0.019178</td>\n",
       "      <td>United States</td>\n",
       "      <td>1990.0</td>\n",
       "      <td>1990.0</td>\n",
       "      <td>0.0</td>\n",
       "      <td>0.0</td>\n",
       "    </tr>\n",
       "    <tr>\n",
       "      <th>2</th>\n",
       "      <td>Sincidence</td>\n",
       "      <td>1</td>\n",
       "      <td>0.0</td>\n",
       "      <td>0.019178</td>\n",
       "      <td>Canada</td>\n",
       "      <td>1991.0</td>\n",
       "      <td>1991.0</td>\n",
       "      <td>0.0</td>\n",
       "      <td>0.0</td>\n",
       "    </tr>\n",
       "    <tr>\n",
       "      <th>3</th>\n",
       "      <td>Sincidence</td>\n",
       "      <td>1</td>\n",
       "      <td>0.0</td>\n",
       "      <td>0.019178</td>\n",
       "      <td>United States</td>\n",
       "      <td>1991.0</td>\n",
       "      <td>1991.0</td>\n",
       "      <td>0.0</td>\n",
       "      <td>0.0</td>\n",
       "    </tr>\n",
       "    <tr>\n",
       "      <th>4</th>\n",
       "      <td>Sincidence</td>\n",
       "      <td>1</td>\n",
       "      <td>0.0</td>\n",
       "      <td>0.019178</td>\n",
       "      <td>Canada</td>\n",
       "      <td>1992.0</td>\n",
       "      <td>1992.0</td>\n",
       "      <td>0.0</td>\n",
       "      <td>0.0</td>\n",
       "    </tr>\n",
       "  </tbody>\n",
       "</table>\n",
       "</div>"
      ],
      "text/plain": [
       "      measure  sex_id  age_start   age_end  location_name  year_start  \\\n",
       "0  Sincidence       1        0.0  0.019178         Canada      1990.0   \n",
       "1  Sincidence       1        0.0  0.019178  United States      1990.0   \n",
       "2  Sincidence       1        0.0  0.019178         Canada      1991.0   \n",
       "3  Sincidence       1        0.0  0.019178  United States      1991.0   \n",
       "4  Sincidence       1        0.0  0.019178         Canada      1992.0   \n",
       "\n",
       "   year_end  mean  standard_error  \n",
       "0    1990.0   0.0             0.0  \n",
       "1    1990.0   0.0             0.0  \n",
       "2    1991.0   0.0             0.0  \n",
       "3    1991.0   0.0             0.0  \n",
       "4    1992.0   0.0             0.0  "
      ]
     },
     "execution_count": 5,
     "metadata": {},
     "output_type": "execute_result"
    }
   ],
   "source": [
    "incidence_data = incidence_data[incidence_data['age_group_id'].isin(list(age_id_to_range.keys()))]\n",
    "incidence_data['measure'] = 'Sincidence'\n",
    "incidence_data['standard_error'] = incidence_data_std['value']\n",
    "incidence_data.rename(columns={\"value\": \"mean\"}, inplace=True)\n",
    "#incidence_data = incidence_data[incidence_data['mean'] > 0]\n",
    "for i, row in incidence_data.iterrows():\n",
    "    start, end = age_id_to_range[row['age_group_id']]\n",
    "    incidence_data.loc[i, 'age_start'] = start\n",
    "    incidence_data.loc[i, 'age_end'] = end\n",
    "    incidence_data.loc[i, 'location_name'] = location_id_to_name[row['location_id']]\n",
    "    incidence_data.loc[i, 'year_start'] = row['year_id']\n",
    "    incidence_data.loc[i, 'year_end'] = row['year_id']\n",
    "    #if row['standard_error'] == 0:\n",
    "    #    incidence_data.loc[i, 'standard_error'] = 1e-16\n",
    "incidence_data = incidence_data[['measure', 'sex_id', 'age_start', 'age_end', \n",
    "                                 'location_name', 'year_start', 'year_end', 'mean', 'standard_error']].copy()\n",
    "incidence_data.reset_index(inplace=True, drop=True)\n",
    "incidence_data.head()"
   ]
  },
  {
   "cell_type": "code",
   "execution_count": 6,
   "metadata": {},
   "outputs": [],
   "source": [
    "incidence_data.to_csv('./data/maternal_obstruct_incidence.csv')"
   ]
  },
  {
   "cell_type": "code",
   "execution_count": 7,
   "metadata": {},
   "outputs": [
    {
     "name": "stderr",
     "output_type": "stream",
     "text": [
      "/usr/local/lib/python3.6/dist-packages/ipykernel_launcher.py:2: SettingWithCopyWarning: \n",
      "A value is trying to be set on a copy of a slice from a DataFrame.\n",
      "Try using .loc[row_indexer,col_indexer] = value instead\n",
      "\n",
      "See the caveats in the documentation: http://pandas.pydata.org/pandas-docs/stable/user_guide/indexing.html#returning-a-view-versus-a-copy\n",
      "  \n",
      "/usr/local/lib/python3.6/dist-packages/ipykernel_launcher.py:3: SettingWithCopyWarning: \n",
      "A value is trying to be set on a copy of a slice from a DataFrame.\n",
      "Try using .loc[row_indexer,col_indexer] = value instead\n",
      "\n",
      "See the caveats in the documentation: http://pandas.pydata.org/pandas-docs/stable/user_guide/indexing.html#returning-a-view-versus-a-copy\n",
      "  This is separate from the ipykernel package so we can avoid doing imports until\n",
      "/usr/local/lib/python3.6/dist-packages/pandas/core/frame.py:4238: SettingWithCopyWarning: \n",
      "A value is trying to be set on a copy of a slice from a DataFrame\n",
      "\n",
      "See the caveats in the documentation: http://pandas.pydata.org/pandas-docs/stable/user_guide/indexing.html#returning-a-view-versus-a-copy\n",
      "  return super().rename(**kwargs)\n",
      "/usr/local/lib/python3.6/dist-packages/pandas/core/indexing.py:376: SettingWithCopyWarning: \n",
      "A value is trying to be set on a copy of a slice from a DataFrame.\n",
      "Try using .loc[row_indexer,col_indexer] = value instead\n",
      "\n",
      "See the caveats in the documentation: http://pandas.pydata.org/pandas-docs/stable/user_guide/indexing.html#returning-a-view-versus-a-copy\n",
      "  self.obj[key] = _infer_fill_value(value)\n",
      "/usr/local/lib/python3.6/dist-packages/pandas/core/indexing.py:494: SettingWithCopyWarning: \n",
      "A value is trying to be set on a copy of a slice from a DataFrame.\n",
      "Try using .loc[row_indexer,col_indexer] = value instead\n",
      "\n",
      "See the caveats in the documentation: http://pandas.pydata.org/pandas-docs/stable/user_guide/indexing.html#returning-a-view-versus-a-copy\n",
      "  self.obj[item] = s\n"
     ]
    },
    {
     "name": "stdout",
     "output_type": "stream",
     "text": [
      "(1008, 9)\n"
     ]
    },
    {
     "data": {
      "text/html": [
       "<div>\n",
       "<style scoped>\n",
       "    .dataframe tbody tr th:only-of-type {\n",
       "        vertical-align: middle;\n",
       "    }\n",
       "\n",
       "    .dataframe tbody tr th {\n",
       "        vertical-align: top;\n",
       "    }\n",
       "\n",
       "    .dataframe thead th {\n",
       "        text-align: right;\n",
       "    }\n",
       "</style>\n",
       "<table border=\"1\" class=\"dataframe\">\n",
       "  <thead>\n",
       "    <tr style=\"text-align: right;\">\n",
       "      <th></th>\n",
       "      <th>measure</th>\n",
       "      <th>sex_id</th>\n",
       "      <th>age_start</th>\n",
       "      <th>age_end</th>\n",
       "      <th>location_name</th>\n",
       "      <th>year_start</th>\n",
       "      <th>year_end</th>\n",
       "      <th>mean</th>\n",
       "      <th>standard_error</th>\n",
       "    </tr>\n",
       "  </thead>\n",
       "  <tbody>\n",
       "    <tr>\n",
       "      <th>0</th>\n",
       "      <td>mtspecific</td>\n",
       "      <td>2</td>\n",
       "      <td>10.0</td>\n",
       "      <td>15.0</td>\n",
       "      <td>Canada</td>\n",
       "      <td>1990.0</td>\n",
       "      <td>1990.0</td>\n",
       "      <td>3.510861e-09</td>\n",
       "      <td>1.308991e-09</td>\n",
       "    </tr>\n",
       "    <tr>\n",
       "      <th>1</th>\n",
       "      <td>mtspecific</td>\n",
       "      <td>2</td>\n",
       "      <td>10.0</td>\n",
       "      <td>15.0</td>\n",
       "      <td>United States</td>\n",
       "      <td>1990.0</td>\n",
       "      <td>1990.0</td>\n",
       "      <td>2.410655e-09</td>\n",
       "      <td>1.359606e-09</td>\n",
       "    </tr>\n",
       "    <tr>\n",
       "      <th>2</th>\n",
       "      <td>mtspecific</td>\n",
       "      <td>2</td>\n",
       "      <td>10.0</td>\n",
       "      <td>15.0</td>\n",
       "      <td>Canada</td>\n",
       "      <td>1991.0</td>\n",
       "      <td>1991.0</td>\n",
       "      <td>3.888031e-09</td>\n",
       "      <td>1.435812e-09</td>\n",
       "    </tr>\n",
       "    <tr>\n",
       "      <th>3</th>\n",
       "      <td>mtspecific</td>\n",
       "      <td>2</td>\n",
       "      <td>10.0</td>\n",
       "      <td>15.0</td>\n",
       "      <td>United States</td>\n",
       "      <td>1991.0</td>\n",
       "      <td>1991.0</td>\n",
       "      <td>2.587408e-09</td>\n",
       "      <td>1.434471e-09</td>\n",
       "    </tr>\n",
       "    <tr>\n",
       "      <th>4</th>\n",
       "      <td>mtspecific</td>\n",
       "      <td>2</td>\n",
       "      <td>10.0</td>\n",
       "      <td>15.0</td>\n",
       "      <td>Canada</td>\n",
       "      <td>1992.0</td>\n",
       "      <td>1992.0</td>\n",
       "      <td>3.748962e-09</td>\n",
       "      <td>1.381120e-09</td>\n",
       "    </tr>\n",
       "  </tbody>\n",
       "</table>\n",
       "</div>"
      ],
      "text/plain": [
       "      measure  sex_id  age_start  age_end  location_name  year_start  \\\n",
       "0  mtspecific       2       10.0     15.0         Canada      1990.0   \n",
       "1  mtspecific       2       10.0     15.0  United States      1990.0   \n",
       "2  mtspecific       2       10.0     15.0         Canada      1991.0   \n",
       "3  mtspecific       2       10.0     15.0  United States      1991.0   \n",
       "4  mtspecific       2       10.0     15.0         Canada      1992.0   \n",
       "\n",
       "   year_end          mean  standard_error  \n",
       "0    1990.0  3.510861e-09    1.308991e-09  \n",
       "1    1990.0  2.410655e-09    1.359606e-09  \n",
       "2    1991.0  3.888031e-09    1.435812e-09  \n",
       "3    1991.0  2.587408e-09    1.434471e-09  \n",
       "4    1992.0  3.748962e-09    1.381120e-09  "
      ]
     },
     "execution_count": 7,
     "metadata": {},
     "output_type": "execute_result"
    }
   ],
   "source": [
    "death_data = death_data[death_data['age_group_id'].isin(list(age_id_to_range.keys()))]\n",
    "death_data['measure'] = 'mtspecific'\n",
    "death_data['standard_error'] = death_data_std['value']\n",
    "death_data.rename(columns={\"value\": \"mean\"}, inplace=True)\n",
    "#death_data = death_data[death_data['mean'] > 0]\n",
    "for i, row in death_data.iterrows():\n",
    "    start, end = age_id_to_range[row['age_group_id']]\n",
    "    death_data.loc[i, 'age_start'] = start\n",
    "    death_data.loc[i, 'age_end'] = end\n",
    "    death_data.loc[i, 'location_name'] = location_id_to_name[row['location_id']]\n",
    "    death_data.loc[i, 'year_start'] = row['year_id']\n",
    "    death_data.loc[i, 'year_end'] = row['year_id']\n",
    "    #if row['standard_error'] == 0:\n",
    "    #    death_data.loc[i, 'standard_error'] = 1e-16\n",
    "death_data = death_data[['measure', 'sex_id', 'age_start', 'age_end', \n",
    "                                 'location_name', 'year_start', 'year_end', 'mean', 'standard_error']].copy()\n",
    "death_data.reset_index(inplace=True, drop=True)\n",
    "print(death_data.shape)\n",
    "death_data.head()"
   ]
  },
  {
   "cell_type": "code",
   "execution_count": 8,
   "metadata": {},
   "outputs": [],
   "source": [
    "death_data.to_csv('./data/maternal_obstruct_death.csv')"
   ]
  },
  {
   "cell_type": "code",
   "execution_count": 9,
   "metadata": {},
   "outputs": [],
   "source": [
    "incidence_data.dropna(inplace=True)\n",
    "death_data.dropna(inplace=True)"
   ]
  },
  {
   "cell_type": "markdown",
   "metadata": {},
   "source": [
    "#### Build Model"
   ]
  },
  {
   "cell_type": "code",
   "execution_count": 26,
   "metadata": {},
   "outputs": [
    {
     "data": {
      "text/html": [
       "<div>\n",
       "<style scoped>\n",
       "    .dataframe tbody tr th:only-of-type {\n",
       "        vertical-align: middle;\n",
       "    }\n",
       "\n",
       "    .dataframe tbody tr th {\n",
       "        vertical-align: top;\n",
       "    }\n",
       "\n",
       "    .dataframe thead th {\n",
       "        text-align: right;\n",
       "    }\n",
       "</style>\n",
       "<table border=\"1\" class=\"dataframe\">\n",
       "  <thead>\n",
       "    <tr style=\"text-align: right;\">\n",
       "      <th></th>\n",
       "      <th>measure</th>\n",
       "      <th>sex_id</th>\n",
       "      <th>age_start</th>\n",
       "      <th>age_end</th>\n",
       "      <th>location_name</th>\n",
       "      <th>year_start</th>\n",
       "      <th>year_end</th>\n",
       "      <th>mean</th>\n",
       "      <th>standard_error</th>\n",
       "    </tr>\n",
       "  </thead>\n",
       "  <tbody>\n",
       "    <tr>\n",
       "      <th>0</th>\n",
       "      <td>Sincidence</td>\n",
       "      <td>2</td>\n",
       "      <td>10.0</td>\n",
       "      <td>15.0</td>\n",
       "      <td>Canada</td>\n",
       "      <td>1990.0</td>\n",
       "      <td>1990.0</td>\n",
       "      <td>0.000003</td>\n",
       "      <td>7.760235e-07</td>\n",
       "    </tr>\n",
       "    <tr>\n",
       "      <th>1</th>\n",
       "      <td>Sincidence</td>\n",
       "      <td>2</td>\n",
       "      <td>10.0</td>\n",
       "      <td>15.0</td>\n",
       "      <td>United States</td>\n",
       "      <td>1990.0</td>\n",
       "      <td>1990.0</td>\n",
       "      <td>0.000023</td>\n",
       "      <td>5.111896e-06</td>\n",
       "    </tr>\n",
       "    <tr>\n",
       "      <th>2</th>\n",
       "      <td>Sincidence</td>\n",
       "      <td>2</td>\n",
       "      <td>10.0</td>\n",
       "      <td>15.0</td>\n",
       "      <td>Canada</td>\n",
       "      <td>1991.0</td>\n",
       "      <td>1991.0</td>\n",
       "      <td>0.000003</td>\n",
       "      <td>7.565842e-07</td>\n",
       "    </tr>\n",
       "    <tr>\n",
       "      <th>3</th>\n",
       "      <td>Sincidence</td>\n",
       "      <td>2</td>\n",
       "      <td>10.0</td>\n",
       "      <td>15.0</td>\n",
       "      <td>United States</td>\n",
       "      <td>1991.0</td>\n",
       "      <td>1991.0</td>\n",
       "      <td>0.000023</td>\n",
       "      <td>4.993514e-06</td>\n",
       "    </tr>\n",
       "    <tr>\n",
       "      <th>4</th>\n",
       "      <td>Sincidence</td>\n",
       "      <td>2</td>\n",
       "      <td>10.0</td>\n",
       "      <td>15.0</td>\n",
       "      <td>Canada</td>\n",
       "      <td>1992.0</td>\n",
       "      <td>1992.0</td>\n",
       "      <td>0.000003</td>\n",
       "      <td>7.448490e-07</td>\n",
       "    </tr>\n",
       "  </tbody>\n",
       "</table>\n",
       "</div>"
      ],
      "text/plain": [
       "      measure  sex_id  age_start  age_end  location_name  year_start  \\\n",
       "0  Sincidence       2       10.0     15.0         Canada      1990.0   \n",
       "1  Sincidence       2       10.0     15.0  United States      1990.0   \n",
       "2  Sincidence       2       10.0     15.0         Canada      1991.0   \n",
       "3  Sincidence       2       10.0     15.0  United States      1991.0   \n",
       "4  Sincidence       2       10.0     15.0         Canada      1992.0   \n",
       "\n",
       "   year_end      mean  standard_error  \n",
       "0    1990.0  0.000003    7.760235e-07  \n",
       "1    1990.0  0.000023    5.111896e-06  \n",
       "2    1991.0  0.000003    7.565842e-07  \n",
       "3    1991.0  0.000023    4.993514e-06  \n",
       "4    1992.0  0.000003    7.448490e-07  "
      ]
     },
     "execution_count": 26,
     "metadata": {},
     "output_type": "execute_result"
    }
   ],
   "source": [
    "integrand = ['Sincidence', 'mtspecific', 'remission', 'mtexcess', 'mtother']\n",
    "locations = ['United States', 'Canada']\n",
    "data = pd.concat([incidence_data, death_data])\n",
    "data.reset_index(inplace=True, drop=True)\n",
    "data.head()"
   ]
  },
  {
   "cell_type": "code",
   "execution_count": 18,
   "metadata": {},
   "outputs": [],
   "source": [
    "rates = ['iota', 'rho', 'chi', 'omega']\n",
    "#meas_noise_density = {'Sincidence':{'density':'students', 'nu': 30}}\n",
    "meas_noise_density = {'Sincidence': {'density': 'gaussian'}, 'mtspecific': {'density': 'gaussian'}}\n",
    "rates_parent_priors = [\n",
    "    # rate priors for iota\n",
    "    ({'density':'uniform','upper':.01,'lower':1e-16,'mean': 1e-9},\\\n",
    "    {'density': 'gaussian', 'mean':0.0, 'std': .001},\\\n",
    "    {'density': 'gaussian', 'mean':0.0, 'std': .001}),\n",
    "    # rho\n",
    "    ({'density':'uniform','upper':.1,'lower':1e-16,'mean': .0001},\\\n",
    "    {'density': 'gaussian', 'mean':0.0, 'std': .001},\\\n",
    "    {'density': 'gaussian', 'mean':0.0, 'std': .001}),\n",
    "    # chi\n",
    "    ({'density':'uniform','upper':1e-16,'lower':1e-16,'mean': 1e-16},\\\n",
    "    {'density': 'gaussian', 'mean':0.0, 'std': .001},\\\n",
    "    {'density': 'gaussian', 'mean':0.0, 'std': .001}),\n",
    "    # omega\n",
    "    ({'density':'uniform','upper':.1,'lower':1e-16,'mean': .0001},\\\n",
    "    {'density': 'gaussian', 'mean':0.0, 'std': .001},\\\n",
    "    {'density': 'gaussian', 'mean':0.0, 'std': .001}),]\n",
    "rates_child_priors = [\n",
    "    # rate priors for iota\n",
    "    ({'density':'gaussian','mean': 0.0, 'std': .1}, None, None),\n",
    "    ({'density':'gaussian','mean': 0.0, 'std': .1}, None, None),\n",
    "    ({'density':'gaussian','mean': 0.0, 'std': 1e-16}, None, None),\n",
    "    ({'density':'gaussian','mean': 0.0, 'std': .1}, None, None),]\n",
    "#---------change path------------\n",
    "path_to_db = './data/mi_maternal_obstruct.db'\n",
    "\n",
    "db = DismodDB(data, locations, integrand,rates, rates_parent_priors, \n",
    "              rates_child_priors, meas_noise_density,path_to_db)"
   ]
  },
  {
   "cell_type": "code",
   "execution_count": 19,
   "metadata": {},
   "outputs": [],
   "source": [
    "model = TwoLevel(db)"
   ]
  },
  {
   "cell_type": "code",
   "execution_count": 23,
   "metadata": {},
   "outputs": [
    {
     "name": "stdout",
     "output_type": "stream",
     "text": [
      "/home/prefix/dismod_at.release/bin/dismod_at ./data/mi_maternal_obstruct.db init\n"
     ]
    }
   ],
   "source": [
    "model.initialize()"
   ]
  },
  {
   "cell_type": "code",
   "execution_count": 24,
   "metadata": {},
   "outputs": [
    {
     "name": "stdout",
     "output_type": "stream",
     "text": [
      "/home/prefix/dismod_at.release/bin/dismod_at ./data/mi_maternal_obstruct.db init\n",
      "./data/mi_maternal_obstruct.db fit fixed\n",
      "./data/mi_maternal_obstruct.db predict fit_var\n"
     ]
    }
   ],
   "source": [
    "model.fit_fixed(zero_sum=True, tol=1e-10)"
   ]
  },
  {
   "cell_type": "code",
   "execution_count": 25,
   "metadata": {},
   "outputs": [
    {
     "name": "stdout",
     "output_type": "stream",
     "text": [
      "{2: 'Canada', 1: 'United States', 0: 'all'}\n"
     ]
    },
    {
     "data": {
      "image/png": "[encoded data removed]",
      "text/plain": [
       "<matplotlib.figure.Figure at 0x7f9c1da514a8>"
      ]
     },
     "metadata": {
      "needs_background": "light"
     },
     "output_type": "display_data"
    }
   ],
   "source": [
    "path = './data/'\n",
    "plt = PlotTwoLevel(path, 'mi_maternal_obstruct.db')\n",
    "plt.plot_residuals('all')"
   ]
  },
  {
   "cell_type": "code",
   "execution_count": null,
   "metadata": {},
   "outputs": [],
   "source": []
  }
 ],
 "metadata": {
  "kernelspec": {
   "display_name": "Python 3",
   "language": "python",
   "name": "python3"
  },
  "language_info": {
   "codemirror_mode": {
    "name": "ipython",
    "version": 3
   },
   "file_extension": ".py",
   "mimetype": "text/x-python",
   "name": "python",
   "nbconvert_exporter": "python",
   "pygments_lexer": "ipython3",
   "version": "3.6.8"
  }
 },
 "nbformat": 4,
 "nbformat_minor": 2
}
