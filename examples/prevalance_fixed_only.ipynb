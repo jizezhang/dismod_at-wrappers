{
 "cells": [
  {
   "cell_type": "code",
   "execution_count": 3,
   "metadata": {},
   "outputs": [],
   "source": [
    "import sys\n",
    "sys.path.insert(0,'../code/')\n",
    "from fixed_only import FixedOnly\n",
    "import postfit_fixed_only as pf\n",
    "import pandas as pd\n",
    "import matplotlib.pyplot as plt\n",
    "import numpy as np\n",
    "import os"
   ]
  },
  {
   "cell_type": "markdown",
   "metadata": {},
   "source": [
    "#### Read in data"
   ]
  },
  {
   "cell_type": "code",
   "execution_count": 1,
   "metadata": {},
   "outputs": [],
   "source": [
    "#----insert code to read in data as a pandas DataFrame -----"
   ]
  },
  {
   "cell_type": "markdown",
   "metadata": {},
   "source": [
    "#### Initialization"
   ]
  },
  {
   "cell_type": "markdown",
   "metadata": {},
   "source": [
    "- `integrand`: list of string, names of integrands\n",
    "- `rates`: list of strings, names of rates\n",
    "- `meas_noise_density`: dict of dict, mapping from measurement name to a dictionary specifying density corresponding to that measurement\n",
    "- `rate_priors`: list of tuples, where each tuple has 3 components:\n",
    "    - prior on the rate, e.g. $\\iota(a,t)$\n",
    "    - prior on the rate change in age, e.g. $\\iota(a_1,t) - \\iota(a_2,t)$\n",
    "    - prior on the rate change in time, e.g. $\\iota(a,t_1) - \\iota(a,t_2)$\n",
    "    \n",
    "    The length of `rate_priors` should be equal to the length of `rates`.\n",
    "\n",
    "- `path_to_db`: path to database\n",
    "- `data`: a pandas dataframe, which must have the following columns:\n",
    "    \n",
    "    `age_start`,`age_end`,`year_start`,`year_end`, `meas_value`, `meas_std`\n",
    "- `age_list`: list of numbers, can pass an `age_list` to dismod_at. If empty the program will use all ages appeared in `age_start` and `age_end` from `data`\n",
    "- `time_list`: similar to `age_list`"
   ]
  },
  {
   "cell_type": "code",
   "execution_count": 5,
   "metadata": {},
   "outputs": [],
   "source": [
    "integrand = ['prevalence']\n",
    "rates = ['iota','rho','chi','omega']\n",
    "meas_noise_density = {'prevalence':{'density': 'gaussian'}}\n",
    "rates_priors = [\n",
    "    # rate priors for iota\n",
    "    ({'density':'uniform','upper':1.0,'lower':1e-4,'mean': .1},\\\n",
    "    {'density': 'log_gaussian', 'mean':0.0, 'std': .01, 'eta': 1e-5},\\\n",
    "    {'density': 'gaussian', 'mean':0.0, 'std': .01}),\\\n",
    "    # rate priors for rho\n",
    "    ({'density':'uniform','lower':1e-4,'mean': 1e-2, 'upper':1.0},\\\n",
    "    {'density': 'gaussian', 'mean':0.0, 'std': 1e-2},\\\n",
    "    {'density': 'gaussian', 'mean':0.0, 'std': 1e-2}),\\\n",
    "    # rate priors for chi\n",
    "    ({'density':'uniform','lower':1e-4,'mean': .1, 'upper':1.0},\\\n",
    "    {'density': 'log_gaussian', 'mean':0.0, 'std': 1e-2, 'eta': 1e-5},\\\n",
    "    {'density': 'gaussian', 'mean':0.0, 'std': 1e-2}),\\\n",
    "    # rate priors for omega\n",
    "    ({'density':'uniform','upper':1.,'lower':1e-4,'mean': .1,'upper':1.0},\\\n",
    "    {'density': 'uniform', 'mean':0.0},\\\n",
    "    {'density': 'uniform', 'mean':0.0})]\n",
    "#---------change path------------\n",
    "path = './data/diabetes/prevalence_only.db'"
   ]
  },
  {
   "cell_type": "markdown",
   "metadata": {},
   "source": [
    "### No covariate"
   ]
  },
  {
   "cell_type": "code",
   "execution_count": 6,
   "metadata": {},
   "outputs": [
    {
     "name": "stdout",
     "output_type": "stream",
     "text": [
      "/home/prefix/dismod_at.release/bin/dismod_at ./data/diabetes/prevalence_only.db init\n"
     ]
    }
   ],
   "source": [
    "model = FixedOnly(data, integrand,rates, rates_priors, meas_noise_density,path)"
   ]
  },
  {
   "cell_type": "markdown",
   "metadata": {},
   "source": [
    "#### Fit model"
   ]
  },
  {
   "cell_type": "code",
   "execution_count": 7,
   "metadata": {},
   "outputs": [
    {
     "name": "stdout",
     "output_type": "stream",
     "text": [
      "/home/prefix/dismod_at.release/bin/dismod_at ./data/diabetes/prevalence_only.db fit fixed\n",
      "elapsed time:  1.225123405456543\n"
     ]
    }
   ],
   "source": [
    "import time\n",
    "t0 = time.time()\n",
    "model.fit_fixed()\n",
    "print('elapsed time: ',time.time()-t0)"
   ]
  },
  {
   "cell_type": "code",
   "execution_count": null,
   "metadata": {},
   "outputs": [],
   "source": []
  }
 ],
 "metadata": {
  "kernelspec": {
   "display_name": "Python 3",
   "language": "python",
   "name": "python3"
  },
  "language_info": {
   "codemirror_mode": {
    "name": "ipython",
    "version": 3
   },
   "file_extension": ".py",
   "mimetype": "text/x-python",
   "name": "python",
   "nbconvert_exporter": "python",
   "pygments_lexer": "ipython3",
   "version": "3.7.3"
  }
 },
 "nbformat": 4,
 "nbformat_minor": 2
}
